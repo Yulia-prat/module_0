{
 "cells": [
  {
   "cell_type": "code",
   "execution_count": 2,
   "metadata": {},
   "outputs": [
    {
     "name": "stdout",
     "output_type": "stream",
     "text": [
      "Ваш алгоритм угадывает число в среднем за 5 попыток\n"
     ]
    },
    {
     "data": {
      "text/plain": [
       "5"
      ]
     },
     "execution_count": 2,
     "metadata": {},
     "output_type": "execute_result"
    }
   ],
   "source": [
    "import numpy as np\n",
    "\n",
    "\n",
    "def game_core_v3(number):\n",
    "    '''Сначала устанавливаем первое предполагаемое число и определяем максимальный и минимальный \n",
    "       диапазон предполагаемых чисел. В зависимости от подсказки \"больше\", \"меньше\", \n",
    "       расчитываем новое значение предполагаемого числа, а также сужаем диапазон. \n",
    "       Функция принимает загаданное число и возвращает число попыток'''\n",
    "    count = 1\n",
    "    predict = int(np.mean(range(1, 101))) \n",
    "    #если установить предполагаемое число как среднее значение списка, диапазон сократиться вдвое\n",
    "    predict_max = max(range(1, 102)) # максимальная граница диапазона \n",
    "    #чтобы предполагаемое число принимало значение 100, макс. значение диапазона должно быть 101\n",
    "    predict_min = min(range(1, 101)) # минимальная граница диапазона\n",
    "    \n",
    "    while number != predict:\n",
    "        count+=1\n",
    "        \n",
    "        if number > predict:\n",
    "            predict_min = predict # сужаем минимальную границу диапазона в зависимости от подсказки\n",
    "            predict = int(((predict_max - predict)/2) + predict) \n",
    "            #каждое последующее значение предполагаемого числа должно принимать среднее значение диапазона\n",
    "            \n",
    "        elif number < predict:\n",
    "            predict_max = predict # сужаем максимальную границу диапазона в зависимости от подсказки\n",
    "            predict = int(predict - ((predict - predict_min)/2))\n",
    "   \n",
    "    return(count) # выход из цикла, если угадали\n",
    "\n",
    "\n",
    "def score_game(game_core):\n",
    "    '''Запускаем игру 1000 раз, чтобы узнать, как быстро игра угадывает число'''\n",
    "    count_ls = []\n",
    "    np.random.seed(1)  # фиксируем RANDOM SEED, чтобы эксперимент был воспроизводим!\n",
    "    random_array = np.random.randint(1,101, size=(1000))\n",
    "    for number in random_array:\n",
    "        count_ls.append(game_core(number))\n",
    "    score = int(np.mean(count_ls))\n",
    "    \n",
    "    print(f\"Ваш алгоритм угадывает число в среднем за {score} попыток\")\n",
    "    return(score)\n",
    "\n",
    "\n",
    "score_game(game_core_v3)"
   ]
  }
 ],
 "metadata": {
  "kernelspec": {
   "display_name": "Python 3",
   "language": "python",
   "name": "python3"
  },
  "language_info": {
   "codemirror_mode": {
    "name": "ipython",
    "version": 3
   },
   "file_extension": ".py",
   "mimetype": "text/x-python",
   "name": "python",
   "nbconvert_exporter": "python",
   "pygments_lexer": "ipython3",
   "version": "3.8.3"
  }
 },
 "nbformat": 4,
 "nbformat_minor": 4
}
