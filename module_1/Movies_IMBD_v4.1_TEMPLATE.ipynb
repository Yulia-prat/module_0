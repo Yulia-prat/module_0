{
 "cells": [
  {
   "cell_type": "code",
   "execution_count": 162,
   "metadata": {
    "_cell_guid": "b1076dfc-b9ad-4769-8c92-a6c4dae69d19",
    "_uuid": "8f2839f25d086af736a60e9eeb907d3b93b6e0e5",
    "colab": {},
    "colab_type": "code",
    "id": "U2D2gTdJVp90"
   },
   "outputs": [],
   "source": [
    "import numpy as np\n",
    "import pandas as pd\n",
    "import seaborn as sns\n",
    "import matplotlib.pyplot as plt\n",
    "from collections import Counter"
   ]
  },
  {
   "cell_type": "code",
   "execution_count": 163,
   "metadata": {
    "_cell_guid": "79c7e3d0-c299-4dcb-8224-4455121ee9b0",
    "_uuid": "d629ff2d2480ee46fbb7e2d37f6b5fab8052498a",
    "colab": {},
    "colab_type": "code",
    "id": "oyGfxL3eVp9-"
   },
   "outputs": [
    {
     "data": {
      "text/html": [
       "<div>\n",
       "<style scoped>\n",
       "    .dataframe tbody tr th:only-of-type {\n",
       "        vertical-align: middle;\n",
       "    }\n",
       "\n",
       "    .dataframe tbody tr th {\n",
       "        vertical-align: top;\n",
       "    }\n",
       "\n",
       "    .dataframe thead th {\n",
       "        text-align: right;\n",
       "    }\n",
       "</style>\n",
       "<table border=\"1\" class=\"dataframe\">\n",
       "  <thead>\n",
       "    <tr style=\"text-align: right;\">\n",
       "      <th></th>\n",
       "      <th>imdb_id</th>\n",
       "      <th>budget</th>\n",
       "      <th>revenue</th>\n",
       "      <th>original_title</th>\n",
       "      <th>cast</th>\n",
       "      <th>director</th>\n",
       "      <th>tagline</th>\n",
       "      <th>overview</th>\n",
       "      <th>runtime</th>\n",
       "      <th>genres</th>\n",
       "      <th>production_companies</th>\n",
       "      <th>release_date</th>\n",
       "      <th>vote_average</th>\n",
       "      <th>release_year</th>\n",
       "    </tr>\n",
       "  </thead>\n",
       "  <tbody>\n",
       "    <tr>\n",
       "      <th>1536</th>\n",
       "      <td>tt0436697</td>\n",
       "      <td>15000000</td>\n",
       "      <td>123384128</td>\n",
       "      <td>The Queen</td>\n",
       "      <td>Helen Mirren|Michael Sheen|James Cromwell|Sylv...</td>\n",
       "      <td>Stephen Frears</td>\n",
       "      <td>Our Leaders. Ourselves.</td>\n",
       "      <td>The Queen is an intimate behind the scenes gli...</td>\n",
       "      <td>103</td>\n",
       "      <td>Drama</td>\n",
       "      <td>BIM Distribuzione|Granada Film Productions|Sco...</td>\n",
       "      <td>9/15/2006</td>\n",
       "      <td>6.6</td>\n",
       "      <td>2006</td>\n",
       "    </tr>\n",
       "    <tr>\n",
       "      <th>1097</th>\n",
       "      <td>tt0283426</td>\n",
       "      <td>20000000</td>\n",
       "      <td>135680000</td>\n",
       "      <td>The Jungle Book 2</td>\n",
       "      <td>John Goodman|Haley Joel Osment|Mae Whitman|Phi...</td>\n",
       "      <td>Steve Trenbirth</td>\n",
       "      <td>Feel the jungle beat</td>\n",
       "      <td>Mowgli, missing the jungle and his old friends...</td>\n",
       "      <td>72</td>\n",
       "      <td>Family|Animation|Adventure</td>\n",
       "      <td>Walt Disney Pictures|Walt Disney Television An...</td>\n",
       "      <td>2/7/2003</td>\n",
       "      <td>5.6</td>\n",
       "      <td>2003</td>\n",
       "    </tr>\n",
       "    <tr>\n",
       "      <th>314</th>\n",
       "      <td>tt1045772</td>\n",
       "      <td>13000000</td>\n",
       "      <td>10652035</td>\n",
       "      <td>I Love You Phillip Morris</td>\n",
       "      <td>Jim Carrey|Ewan McGregor|Leslie Mann|Rodrigo S...</td>\n",
       "      <td>Glenn Ficarra|John Requa</td>\n",
       "      <td>The Conman who wouldn't go straight.</td>\n",
       "      <td>Bad Santa co-screenwriters Glenn Ficara and Jo...</td>\n",
       "      <td>98</td>\n",
       "      <td>Comedy|Drama|Romance</td>\n",
       "      <td>EuropaCorp</td>\n",
       "      <td>1/18/2009</td>\n",
       "      <td>6.3</td>\n",
       "      <td>2009</td>\n",
       "    </tr>\n",
       "    <tr>\n",
       "      <th>1363</th>\n",
       "      <td>tt0452598</td>\n",
       "      <td>60000000</td>\n",
       "      <td>129181830</td>\n",
       "      <td>Cheaper by the Dozen 2</td>\n",
       "      <td>Steve Martin|Eugene Levy|Bonnie Hunt|Tom Welli...</td>\n",
       "      <td>Adam Shankman</td>\n",
       "      <td>Same Big Family... Even Bigger Adventure.</td>\n",
       "      <td>Steve Martin and Bonnie Hunt return as heads o...</td>\n",
       "      <td>94</td>\n",
       "      <td>Adventure|Comedy|Family</td>\n",
       "      <td>Twentieth Century Fox Film Corporation</td>\n",
       "      <td>12/21/2005</td>\n",
       "      <td>5.8</td>\n",
       "      <td>2005</td>\n",
       "    </tr>\n",
       "    <tr>\n",
       "      <th>307</th>\n",
       "      <td>tt0465580</td>\n",
       "      <td>38000000</td>\n",
       "      <td>45465299</td>\n",
       "      <td>Push</td>\n",
       "      <td>Dakota Fanning|Camilla Belle|Chris Evans|Djimo...</td>\n",
       "      <td>Paul McGuigan</td>\n",
       "      <td>One push can change everything.</td>\n",
       "      <td>After his father, an assassin, is brutally mur...</td>\n",
       "      <td>111</td>\n",
       "      <td>Action</td>\n",
       "      <td>Icon Productions|Infinity Features Entertainme...</td>\n",
       "      <td>2/6/2009</td>\n",
       "      <td>5.8</td>\n",
       "      <td>2009</td>\n",
       "    </tr>\n",
       "  </tbody>\n",
       "</table>\n",
       "</div>"
      ],
      "text/plain": [
       "        imdb_id    budget    revenue             original_title  \\\n",
       "1536  tt0436697  15000000  123384128                  The Queen   \n",
       "1097  tt0283426  20000000  135680000          The Jungle Book 2   \n",
       "314   tt1045772  13000000   10652035  I Love You Phillip Morris   \n",
       "1363  tt0452598  60000000  129181830     Cheaper by the Dozen 2   \n",
       "307   tt0465580  38000000   45465299                       Push   \n",
       "\n",
       "                                                   cast  \\\n",
       "1536  Helen Mirren|Michael Sheen|James Cromwell|Sylv...   \n",
       "1097  John Goodman|Haley Joel Osment|Mae Whitman|Phi...   \n",
       "314   Jim Carrey|Ewan McGregor|Leslie Mann|Rodrigo S...   \n",
       "1363  Steve Martin|Eugene Levy|Bonnie Hunt|Tom Welli...   \n",
       "307   Dakota Fanning|Camilla Belle|Chris Evans|Djimo...   \n",
       "\n",
       "                      director                                    tagline  \\\n",
       "1536            Stephen Frears                    Our Leaders. Ourselves.   \n",
       "1097           Steve Trenbirth                       Feel the jungle beat   \n",
       "314   Glenn Ficarra|John Requa       The Conman who wouldn't go straight.   \n",
       "1363             Adam Shankman  Same Big Family... Even Bigger Adventure.   \n",
       "307              Paul McGuigan            One push can change everything.   \n",
       "\n",
       "                                               overview  runtime  \\\n",
       "1536  The Queen is an intimate behind the scenes gli...      103   \n",
       "1097  Mowgli, missing the jungle and his old friends...       72   \n",
       "314   Bad Santa co-screenwriters Glenn Ficara and Jo...       98   \n",
       "1363  Steve Martin and Bonnie Hunt return as heads o...       94   \n",
       "307   After his father, an assassin, is brutally mur...      111   \n",
       "\n",
       "                          genres  \\\n",
       "1536                       Drama   \n",
       "1097  Family|Animation|Adventure   \n",
       "314         Comedy|Drama|Romance   \n",
       "1363     Adventure|Comedy|Family   \n",
       "307                       Action   \n",
       "\n",
       "                                   production_companies release_date  \\\n",
       "1536  BIM Distribuzione|Granada Film Productions|Sco...    9/15/2006   \n",
       "1097  Walt Disney Pictures|Walt Disney Television An...     2/7/2003   \n",
       "314                                          EuropaCorp    1/18/2009   \n",
       "1363             Twentieth Century Fox Film Corporation   12/21/2005   \n",
       "307   Icon Productions|Infinity Features Entertainme...     2/6/2009   \n",
       "\n",
       "      vote_average  release_year  \n",
       "1536           6.6          2006  \n",
       "1097           5.6          2003  \n",
       "314            6.3          2009  \n",
       "1363           5.8          2005  \n",
       "307            5.8          2009  "
      ]
     },
     "execution_count": 163,
     "metadata": {},
     "output_type": "execute_result"
    }
   ],
   "source": [
    "data = pd.read_csv('movie_bd_v5.csv')\n",
    "data.sample(5)"
   ]
  },
  {
   "cell_type": "code",
   "execution_count": 164,
   "metadata": {
    "colab": {},
    "colab_type": "code",
    "id": "CoYUnagMVp-C"
   },
   "outputs": [
    {
     "data": {
      "text/html": [
       "<div>\n",
       "<style scoped>\n",
       "    .dataframe tbody tr th:only-of-type {\n",
       "        vertical-align: middle;\n",
       "    }\n",
       "\n",
       "    .dataframe tbody tr th {\n",
       "        vertical-align: top;\n",
       "    }\n",
       "\n",
       "    .dataframe thead th {\n",
       "        text-align: right;\n",
       "    }\n",
       "</style>\n",
       "<table border=\"1\" class=\"dataframe\">\n",
       "  <thead>\n",
       "    <tr style=\"text-align: right;\">\n",
       "      <th></th>\n",
       "      <th>budget</th>\n",
       "      <th>revenue</th>\n",
       "      <th>runtime</th>\n",
       "      <th>vote_average</th>\n",
       "      <th>release_year</th>\n",
       "    </tr>\n",
       "  </thead>\n",
       "  <tbody>\n",
       "    <tr>\n",
       "      <th>count</th>\n",
       "      <td>1.889000e+03</td>\n",
       "      <td>1.889000e+03</td>\n",
       "      <td>1889.000000</td>\n",
       "      <td>1889.000000</td>\n",
       "      <td>1889.000000</td>\n",
       "    </tr>\n",
       "    <tr>\n",
       "      <th>mean</th>\n",
       "      <td>5.431083e+07</td>\n",
       "      <td>1.553653e+08</td>\n",
       "      <td>109.658549</td>\n",
       "      <td>6.140762</td>\n",
       "      <td>2007.860773</td>\n",
       "    </tr>\n",
       "    <tr>\n",
       "      <th>std</th>\n",
       "      <td>4.858721e+07</td>\n",
       "      <td>2.146698e+08</td>\n",
       "      <td>18.017041</td>\n",
       "      <td>0.764763</td>\n",
       "      <td>4.468841</td>\n",
       "    </tr>\n",
       "    <tr>\n",
       "      <th>min</th>\n",
       "      <td>5.000000e+06</td>\n",
       "      <td>2.033165e+06</td>\n",
       "      <td>63.000000</td>\n",
       "      <td>3.300000</td>\n",
       "      <td>2000.000000</td>\n",
       "    </tr>\n",
       "    <tr>\n",
       "      <th>25%</th>\n",
       "      <td>2.000000e+07</td>\n",
       "      <td>3.456058e+07</td>\n",
       "      <td>97.000000</td>\n",
       "      <td>5.600000</td>\n",
       "      <td>2004.000000</td>\n",
       "    </tr>\n",
       "    <tr>\n",
       "      <th>50%</th>\n",
       "      <td>3.800000e+07</td>\n",
       "      <td>8.361541e+07</td>\n",
       "      <td>107.000000</td>\n",
       "      <td>6.100000</td>\n",
       "      <td>2008.000000</td>\n",
       "    </tr>\n",
       "    <tr>\n",
       "      <th>75%</th>\n",
       "      <td>7.200000e+07</td>\n",
       "      <td>1.782626e+08</td>\n",
       "      <td>120.000000</td>\n",
       "      <td>6.600000</td>\n",
       "      <td>2012.000000</td>\n",
       "    </tr>\n",
       "    <tr>\n",
       "      <th>max</th>\n",
       "      <td>3.800000e+08</td>\n",
       "      <td>2.781506e+09</td>\n",
       "      <td>214.000000</td>\n",
       "      <td>8.100000</td>\n",
       "      <td>2015.000000</td>\n",
       "    </tr>\n",
       "  </tbody>\n",
       "</table>\n",
       "</div>"
      ],
      "text/plain": [
       "             budget       revenue      runtime  vote_average  release_year\n",
       "count  1.889000e+03  1.889000e+03  1889.000000   1889.000000   1889.000000\n",
       "mean   5.431083e+07  1.553653e+08   109.658549      6.140762   2007.860773\n",
       "std    4.858721e+07  2.146698e+08    18.017041      0.764763      4.468841\n",
       "min    5.000000e+06  2.033165e+06    63.000000      3.300000   2000.000000\n",
       "25%    2.000000e+07  3.456058e+07    97.000000      5.600000   2004.000000\n",
       "50%    3.800000e+07  8.361541e+07   107.000000      6.100000   2008.000000\n",
       "75%    7.200000e+07  1.782626e+08   120.000000      6.600000   2012.000000\n",
       "max    3.800000e+08  2.781506e+09   214.000000      8.100000   2015.000000"
      ]
     },
     "execution_count": 164,
     "metadata": {},
     "output_type": "execute_result"
    }
   ],
   "source": [
    "data.describe()"
   ]
  },
  {
   "cell_type": "markdown",
   "metadata": {
    "colab_type": "text",
    "id": "DTIt7ezGVp-G"
   },
   "source": [
    "# Предобработка"
   ]
  },
  {
   "cell_type": "code",
   "execution_count": 165,
   "metadata": {
    "colab": {},
    "colab_type": "code",
    "id": "jNb40DwKVp-H"
   },
   "outputs": [],
   "source": [
    "answers = {} # создадим словарь для ответов\n",
    "\n",
    "\n",
    "'Приводим дату выхода фильма к удобному формату datetime64[ns]'\n",
    "data.release_date = pd.to_datetime(data.release_date) \n",
    "\n",
    "\n",
    "'''Так как в строковых значениях  встречаются ошибки кодировки,\n",
    "проводим декодировку каждой колонки'''\n",
    "data.cast = data.cast.str.encode('Latin-1', errors='ignore').str.decode('utf-8', errors='ignore')\n",
    "data.director = data.director.str.encode('Latin-1', errors='ignore').str.decode('utf-8')\n",
    "data.production_companies = data.production_companies.str.encode('Latin-1', \n",
    "                                                                 errors='ignore').str.decode('utf-8', errors='ignore')\n",
    "\n",
    "\n",
    "'Добавим колонку с прибылью'    \n",
    "# высчитываем значение прибыли для каждого фильма\n",
    "profit = data.revenue - data.budget \n",
    "# добавляем колонку с прибылью рядом с бюджетом и доходом\n",
    "data.insert(3, 'profit', profit) \n",
    "\n",
    "\n",
    "# создаем функцию для решения заданий\n",
    "def count_elements(series):\n",
    "    '''Функция принимает pd.Series с вложенными списками.\n",
    "       Считает количество каждого элемента во всех списках. \n",
    "       Функция возвращает самый часто встречаемый элемент среди всех списков.'''\n",
    "    c = Counter()\n",
    "    \n",
    "    for line in series:\n",
    "        for element in line:\n",
    "            c[element] += 1\n",
    "    \n",
    "    top = c.most_common(1)\n",
    "    return top[0][0]\n",
    "\n",
    "\n",
    "'''Для удобного отображения графиков, создаем DataFrame с индексами по дате выхода\n",
    "также устанавливаем настройки графиков'''\n",
    "data_chart = pd.read_csv('movie_bd_v5.csv', \n",
    "                         parse_dates=['release_date'], \n",
    "                         dayfirst=True, \n",
    "                         index_col='release_date')\n",
    "\n",
    "data_chart['profit'] = data_chart.revenue - data_chart.budget\n",
    "plt.style.use('ggplot')\n",
    "plt.rcParams['figure.figsize'] = (17, 5)\n",
    "\n",
    "'Для удобного поиска решений 21-23 заданий создаем отдельный DataFrame с месяцами'\n",
    "# создаем новый DataFrame и добавляем в него столбец с месяцами\n",
    "MonthRelease_data = data.copy()\n",
    "\n",
    "# создаем список месяцев, в которых выходили фильмы\n",
    "months = MonthRelease_data.release_date.dt.month_name()\n",
    "\n",
    "MonthRelease_data.insert(12, 'month_release', months)"
   ]
  },
  {
   "cell_type": "markdown",
   "metadata": {
    "colab_type": "text",
    "id": "YxZaH-nPVp-L"
   },
   "source": [
    "# 1. У какого фильма из списка самый большой бюджет?"
   ]
  },
  {
   "cell_type": "markdown",
   "metadata": {
    "colab_type": "text",
    "id": "Nd-G5gX6Vp-M"
   },
   "source": [
    "Использовать варианты ответов в коде решения запрещено.    \n",
    "Вы думаете и в жизни у вас будут варианты ответов?)"
   ]
  },
  {
   "cell_type": "code",
   "execution_count": 166,
   "metadata": {
    "colab": {},
    "colab_type": "code",
    "id": "uVnXAY5RVp-O"
   },
   "outputs": [],
   "source": [
    "# в словарь вставляем номер вопроса и ваш ответ на него\n",
    "# Пример: \n",
    "answers['1'] = '2. Spider-Man 3 (tt0413300)'\n",
    "# запишите свой вариант ответа\n",
    "answers['1'] = 'Pirates of the Caribbean: On Stranger Tides (tt1298650)' # +\n",
    "# если ответили верно, можете добавить комментарий со значком \"+\""
   ]
  },
  {
   "cell_type": "code",
   "execution_count": 167,
   "metadata": {
    "colab": {},
    "colab_type": "code",
    "id": "dZwb3m28Vp-S"
   },
   "outputs": [
    {
     "data": {
      "text/html": [
       "<div>\n",
       "<style scoped>\n",
       "    .dataframe tbody tr th:only-of-type {\n",
       "        vertical-align: middle;\n",
       "    }\n",
       "\n",
       "    .dataframe tbody tr th {\n",
       "        vertical-align: top;\n",
       "    }\n",
       "\n",
       "    .dataframe thead th {\n",
       "        text-align: right;\n",
       "    }\n",
       "</style>\n",
       "<table border=\"1\" class=\"dataframe\">\n",
       "  <thead>\n",
       "    <tr style=\"text-align: right;\">\n",
       "      <th></th>\n",
       "      <th>imdb_id</th>\n",
       "      <th>original_title</th>\n",
       "      <th>budget</th>\n",
       "    </tr>\n",
       "  </thead>\n",
       "  <tbody>\n",
       "    <tr>\n",
       "      <th>723</th>\n",
       "      <td>tt1298650</td>\n",
       "      <td>Pirates of the Caribbean: On Stranger Tides</td>\n",
       "      <td>380000000</td>\n",
       "    </tr>\n",
       "  </tbody>\n",
       "</table>\n",
       "</div>"
      ],
      "text/plain": [
       "       imdb_id                               original_title     budget\n",
       "723  tt1298650  Pirates of the Caribbean: On Stranger Tides  380000000"
      ]
     },
     "execution_count": 167,
     "metadata": {},
     "output_type": "execute_result"
    }
   ],
   "source": [
    "data[['imdb_id', 'original_title', 'budget']][data.budget == data.budget.max()]\n",
    "# быстрый вывод отфильтрованных данных"
   ]
  },
  {
   "cell_type": "markdown",
   "metadata": {
    "colab_type": "text",
    "id": "K7L3nbRXVp-X"
   },
   "source": [
    "ВАРИАНТ 2"
   ]
  },
  {
   "cell_type": "code",
   "execution_count": 168,
   "metadata": {
    "colab": {},
    "colab_type": "code",
    "id": "OGaoQI7rVp-X"
   },
   "outputs": [
    {
     "name": "stdout",
     "output_type": "stream",
     "text": [
      "723. Pirates of the Caribbean: On Stranger Tides (tt1298650)\n"
     ]
    }
   ],
   "source": [
    "max_budget = data.sort_values(by=['budget'], ascending=False).iloc[0]\n",
    "# поиск необходимой строки путем сортировки DataFrame по бюджету\n",
    "print('{}. {} ({})'.format(max_budget.name, max_budget.original_title, \n",
    "                           max_budget.imdb_id))\n",
    "# вывод значений в удобном формате для словаря"
   ]
  },
  {
   "cell_type": "code",
   "execution_count": 169,
   "metadata": {},
   "outputs": [
    {
     "data": {
      "text/plain": [
       "<matplotlib.axes._subplots.AxesSubplot at 0x1d8cf2b0>"
      ]
     },
     "execution_count": 169,
     "metadata": {},
     "output_type": "execute_result"
    },
    {
     "data": {
      "image/png": "[encoded data removed]",
      "text/plain": [
       "<Figure size 1224x360 with 1 Axes>"
      ]
     },
     "metadata": {},
     "output_type": "display_data"
    }
   ],
   "source": [
    "# продемонстрируем на графике десятку самых высокобюджетных фильмов\n",
    "budget_chart = pd.DataFrame(data_chart.groupby(['original_title'])\n",
    "                            ['budget'].mean())\n",
    "budget_chart.sort_values(by='budget', \n",
    "                         ascending=False)[:10].plot(kind='bar')"
   ]
  },
  {
   "cell_type": "markdown",
   "metadata": {
    "colab_type": "text",
    "id": "FNRbbI3vVp-c"
   },
   "source": [
    "# 2. Какой из фильмов самый длительный (в минутах)?"
   ]
  },
  {
   "cell_type": "code",
   "execution_count": 170,
   "metadata": {
    "colab": {},
    "colab_type": "code",
    "id": "vHAoEXNTVp-d"
   },
   "outputs": [],
   "source": [
    "# думаю логику работы с этим словарем вы уже поняли, \n",
    "# по этому не буду больше его дублировать\n",
    "answers['2'] = 'Gods and Generals (tt0279111)' # +"
   ]
  },
  {
   "cell_type": "code",
   "execution_count": 171,
   "metadata": {
    "colab": {},
    "colab_type": "code",
    "id": "ot-VX2XrVp-g"
   },
   "outputs": [
    {
     "data": {
      "text/html": [
       "<div>\n",
       "<style scoped>\n",
       "    .dataframe tbody tr th:only-of-type {\n",
       "        vertical-align: middle;\n",
       "    }\n",
       "\n",
       "    .dataframe tbody tr th {\n",
       "        vertical-align: top;\n",
       "    }\n",
       "\n",
       "    .dataframe thead th {\n",
       "        text-align: right;\n",
       "    }\n",
       "</style>\n",
       "<table border=\"1\" class=\"dataframe\">\n",
       "  <thead>\n",
       "    <tr style=\"text-align: right;\">\n",
       "      <th></th>\n",
       "      <th>imdb_id</th>\n",
       "      <th>original_title</th>\n",
       "      <th>runtime</th>\n",
       "    </tr>\n",
       "  </thead>\n",
       "  <tbody>\n",
       "    <tr>\n",
       "      <th>1157</th>\n",
       "      <td>tt0279111</td>\n",
       "      <td>Gods and Generals</td>\n",
       "      <td>214</td>\n",
       "    </tr>\n",
       "  </tbody>\n",
       "</table>\n",
       "</div>"
      ],
      "text/plain": [
       "        imdb_id     original_title  runtime\n",
       "1157  tt0279111  Gods and Generals      214"
      ]
     },
     "execution_count": 171,
     "metadata": {},
     "output_type": "execute_result"
    }
   ],
   "source": [
    "data[['imdb_id', 'original_title', 'runtime']][data.runtime == data.runtime.max()]"
   ]
  },
  {
   "cell_type": "markdown",
   "metadata": {},
   "source": [
    "ВАРИАНТ 2"
   ]
  },
  {
   "cell_type": "code",
   "execution_count": 172,
   "metadata": {},
   "outputs": [
    {
     "name": "stdout",
     "output_type": "stream",
     "text": [
      "1157. Gods and Generals (tt0279111)\n"
     ]
    }
   ],
   "source": [
    "max_runtime = data.sort_values(by=['runtime'], ascending=False).iloc[0]\n",
    "print('{}. {} ({})'.format(max_runtime.name, max_runtime.original_title, \n",
    "                           max_runtime.imdb_id))"
   ]
  },
  {
   "cell_type": "markdown",
   "metadata": {
    "colab_type": "text",
    "id": "bapLlpW8Vp-k"
   },
   "source": [
    "# 3. Какой из фильмов самый короткий (в минутах)?\n",
    "\n",
    "\n",
    "\n"
   ]
  },
  {
   "cell_type": "code",
   "execution_count": 173,
   "metadata": {},
   "outputs": [],
   "source": [
    "answers['3'] = 'Winnie the Pooh (tt1449283)' # +"
   ]
  },
  {
   "cell_type": "code",
   "execution_count": 174,
   "metadata": {
    "colab": {},
    "colab_type": "code",
    "id": "YBxaSHuAVp-l"
   },
   "outputs": [
    {
     "data": {
      "text/html": [
       "<div>\n",
       "<style scoped>\n",
       "    .dataframe tbody tr th:only-of-type {\n",
       "        vertical-align: middle;\n",
       "    }\n",
       "\n",
       "    .dataframe tbody tr th {\n",
       "        vertical-align: top;\n",
       "    }\n",
       "\n",
       "    .dataframe thead th {\n",
       "        text-align: right;\n",
       "    }\n",
       "</style>\n",
       "<table border=\"1\" class=\"dataframe\">\n",
       "  <thead>\n",
       "    <tr style=\"text-align: right;\">\n",
       "      <th></th>\n",
       "      <th>imdb_id</th>\n",
       "      <th>original_title</th>\n",
       "      <th>runtime</th>\n",
       "    </tr>\n",
       "  </thead>\n",
       "  <tbody>\n",
       "    <tr>\n",
       "      <th>768</th>\n",
       "      <td>tt1449283</td>\n",
       "      <td>Winnie the Pooh</td>\n",
       "      <td>63</td>\n",
       "    </tr>\n",
       "  </tbody>\n",
       "</table>\n",
       "</div>"
      ],
      "text/plain": [
       "       imdb_id   original_title  runtime\n",
       "768  tt1449283  Winnie the Pooh       63"
      ]
     },
     "execution_count": 174,
     "metadata": {},
     "output_type": "execute_result"
    }
   ],
   "source": [
    "data[['imdb_id', 'original_title', 'runtime']][data.runtime == data.runtime.min()]"
   ]
  },
  {
   "cell_type": "markdown",
   "metadata": {},
   "source": [
    "ВАРИАНТ 2"
   ]
  },
  {
   "cell_type": "code",
   "execution_count": 175,
   "metadata": {},
   "outputs": [
    {
     "name": "stdout",
     "output_type": "stream",
     "text": [
      "768. Winnie the Pooh (tt1449283)\n"
     ]
    }
   ],
   "source": [
    "min_runtime = data.sort_values(by=['runtime'], ascending=False).iloc[-1]\n",
    "print('{}. {} ({})'.format(min_runtime.name, min_runtime.original_title,\n",
    "                           min_runtime.imdb_id))"
   ]
  },
  {
   "cell_type": "markdown",
   "metadata": {
    "colab_type": "text",
    "id": "TfQbxbfNVp-p"
   },
   "source": [
    "# 4. Какова средняя длительность фильмов?\n"
   ]
  },
  {
   "cell_type": "code",
   "execution_count": 176,
   "metadata": {
    "colab": {},
    "colab_type": "code",
    "id": "5K6dKZYVVp-q"
   },
   "outputs": [],
   "source": [
    "answers['4'] = 110 # +"
   ]
  },
  {
   "cell_type": "code",
   "execution_count": 177,
   "metadata": {},
   "outputs": [
    {
     "name": "stdout",
     "output_type": "stream",
     "text": [
      "110\n"
     ]
    }
   ],
   "source": [
    "print(round(data.runtime.mean()))"
   ]
  },
  {
   "cell_type": "markdown",
   "metadata": {},
   "source": [
    "ВАРИАНТ 2"
   ]
  },
  {
   "cell_type": "code",
   "execution_count": 178,
   "metadata": {},
   "outputs": [
    {
     "name": "stdout",
     "output_type": "stream",
     "text": [
      "110\n"
     ]
    }
   ],
   "source": [
    "#создаем новый DataFrame на основе статистики Data\n",
    "stat_data = data.describe() \n",
    "print(int(round(stat_data['runtime']['mean'])))"
   ]
  },
  {
   "cell_type": "markdown",
   "metadata": {
    "colab_type": "text",
    "id": "r5TvbnT_Vp-u"
   },
   "source": [
    "# 5. Каково медианное значение длительности фильмов? "
   ]
  },
  {
   "cell_type": "code",
   "execution_count": 179,
   "metadata": {
    "colab": {},
    "colab_type": "code",
    "id": "iBROplKnVp-v"
   },
   "outputs": [],
   "source": [
    "answers['5'] = 107 # +"
   ]
  },
  {
   "cell_type": "code",
   "execution_count": 180,
   "metadata": {
    "scrolled": true
   },
   "outputs": [
    {
     "name": "stdout",
     "output_type": "stream",
     "text": [
      "107\n"
     ]
    }
   ],
   "source": [
    "print(round(data.runtime.median()))"
   ]
  },
  {
   "cell_type": "markdown",
   "metadata": {},
   "source": [
    "ВАРИАНТ 2"
   ]
  },
  {
   "cell_type": "code",
   "execution_count": 181,
   "metadata": {},
   "outputs": [
    {
     "name": "stdout",
     "output_type": "stream",
     "text": [
      "107\n"
     ]
    }
   ],
   "source": [
    "#самостоятельно высчитываем медиану\n",
    "sorted_data = data.sort_values(by=['runtime'])\n",
    "index = len(sorted_data.index)\n",
    "median = int((sorted_data.runtime.iloc[round(index/2)] \n",
    "                + sorted_data.runtime.iloc[round(index/2)+1])/2)\n",
    "print(median)"
   ]
  },
  {
   "cell_type": "markdown",
   "metadata": {
    "colab_type": "text",
    "id": "39P-deDSVp-y"
   },
   "source": [
    "# 6. Какой самый прибыльный фильм?\n",
    "#### Внимание! Здесь и далее под «прибылью» или «убытками» понимается разность между сборами и бюджетом фильма. (прибыль = сборы - бюджет) в нашем датасете это будет (profit = revenue - budget) "
   ]
  },
  {
   "cell_type": "code",
   "execution_count": 182,
   "metadata": {},
   "outputs": [],
   "source": [
    "answers['6'] = 'Avatar (tt0499549)' # +"
   ]
  },
  {
   "cell_type": "code",
   "execution_count": 183,
   "metadata": {
    "colab": {},
    "colab_type": "code",
    "id": "UYZh4T9WVp-y"
   },
   "outputs": [
    {
     "data": {
      "text/html": [
       "<div>\n",
       "<style scoped>\n",
       "    .dataframe tbody tr th:only-of-type {\n",
       "        vertical-align: middle;\n",
       "    }\n",
       "\n",
       "    .dataframe tbody tr th {\n",
       "        vertical-align: top;\n",
       "    }\n",
       "\n",
       "    .dataframe thead th {\n",
       "        text-align: right;\n",
       "    }\n",
       "</style>\n",
       "<table border=\"1\" class=\"dataframe\">\n",
       "  <thead>\n",
       "    <tr style=\"text-align: right;\">\n",
       "      <th></th>\n",
       "      <th>imdb_id</th>\n",
       "      <th>original_title</th>\n",
       "      <th>profit</th>\n",
       "    </tr>\n",
       "  </thead>\n",
       "  <tbody>\n",
       "    <tr>\n",
       "      <th>239</th>\n",
       "      <td>tt0499549</td>\n",
       "      <td>Avatar</td>\n",
       "      <td>2544505847</td>\n",
       "    </tr>\n",
       "  </tbody>\n",
       "</table>\n",
       "</div>"
      ],
      "text/plain": [
       "       imdb_id original_title      profit\n",
       "239  tt0499549         Avatar  2544505847"
      ]
     },
     "execution_count": 183,
     "metadata": {},
     "output_type": "execute_result"
    }
   ],
   "source": [
    "data[['imdb_id', 'original_title', 'profit']][data.profit == data.profit.max()]"
   ]
  },
  {
   "cell_type": "markdown",
   "metadata": {},
   "source": [
    "ВАРИАНТ 2"
   ]
  },
  {
   "cell_type": "code",
   "execution_count": 184,
   "metadata": {},
   "outputs": [
    {
     "name": "stdout",
     "output_type": "stream",
     "text": [
      "Avatar (tt0499549)\n"
     ]
    }
   ],
   "source": [
    "max_profit = data.sort_values(by=['profit'], ascending=False).iloc[0]\n",
    "print('{} ({})'.format(max_profit.original_title, max_profit.imdb_id))"
   ]
  },
  {
   "cell_type": "code",
   "execution_count": 185,
   "metadata": {},
   "outputs": [
    {
     "data": {
      "text/plain": [
       "<matplotlib.axes._subplots.AxesSubplot at 0x10882eb0>"
      ]
     },
     "execution_count": 185,
     "metadata": {},
     "output_type": "execute_result"
    },
    {
     "data": {
      "image/png": "[encoded data removed]",
      "text/plain": [
       "<Figure size 1224x360 with 1 Axes>"
      ]
     },
     "metadata": {},
     "output_type": "display_data"
    }
   ],
   "source": [
    "# продемонстрируем на графике десятку самых прибыльных фильмов\n",
    "profit_chart = pd.DataFrame(data_chart.groupby(['original_title'])['profit'].mean())\n",
    "profit_chart.sort_values(by='profit', ascending=False)[:10].plot(kind='bar')"
   ]
  },
  {
   "cell_type": "markdown",
   "metadata": {
    "colab_type": "text",
    "id": "M99JmIX4Vp-2"
   },
   "source": [
    "# 7. Какой фильм самый убыточный? "
   ]
  },
  {
   "cell_type": "code",
   "execution_count": 186,
   "metadata": {
    "colab": {},
    "colab_type": "code",
    "id": "w-D2m4XPVp-3"
   },
   "outputs": [],
   "source": [
    "answers['7'] = 'The Lone Ranger (tt1210819)' # +"
   ]
  },
  {
   "cell_type": "code",
   "execution_count": 187,
   "metadata": {},
   "outputs": [
    {
     "data": {
      "text/html": [
       "<div>\n",
       "<style scoped>\n",
       "    .dataframe tbody tr th:only-of-type {\n",
       "        vertical-align: middle;\n",
       "    }\n",
       "\n",
       "    .dataframe tbody tr th {\n",
       "        vertical-align: top;\n",
       "    }\n",
       "\n",
       "    .dataframe thead th {\n",
       "        text-align: right;\n",
       "    }\n",
       "</style>\n",
       "<table border=\"1\" class=\"dataframe\">\n",
       "  <thead>\n",
       "    <tr style=\"text-align: right;\">\n",
       "      <th></th>\n",
       "      <th>imdb_id</th>\n",
       "      <th>original_title</th>\n",
       "      <th>profit</th>\n",
       "    </tr>\n",
       "  </thead>\n",
       "  <tbody>\n",
       "    <tr>\n",
       "      <th>1245</th>\n",
       "      <td>tt1210819</td>\n",
       "      <td>The Lone Ranger</td>\n",
       "      <td>-165710090</td>\n",
       "    </tr>\n",
       "  </tbody>\n",
       "</table>\n",
       "</div>"
      ],
      "text/plain": [
       "        imdb_id   original_title     profit\n",
       "1245  tt1210819  The Lone Ranger -165710090"
      ]
     },
     "execution_count": 187,
     "metadata": {},
     "output_type": "execute_result"
    }
   ],
   "source": [
    "data[['imdb_id', 'original_title', 'profit']][data.profit == data.profit.min()]"
   ]
  },
  {
   "cell_type": "markdown",
   "metadata": {},
   "source": [
    "ВАРИАНТ 2"
   ]
  },
  {
   "cell_type": "code",
   "execution_count": 188,
   "metadata": {},
   "outputs": [
    {
     "name": "stdout",
     "output_type": "stream",
     "text": [
      "The Lone Ranger (tt1210819)\n"
     ]
    }
   ],
   "source": [
    "min_profit = data.sort_values(by=['profit'], ascending=False).iloc[-1]\n",
    "print('{} ({})'.format(min_profit.original_title, min_profit.imdb_id))"
   ]
  },
  {
   "cell_type": "markdown",
   "metadata": {
    "colab_type": "text",
    "id": "wEOM5ERVVp-6"
   },
   "source": [
    "# 8. У скольких фильмов из датасета объем сборов оказался выше бюджета?"
   ]
  },
  {
   "cell_type": "code",
   "execution_count": 189,
   "metadata": {
    "colab": {},
    "colab_type": "code",
    "id": "y00_7HD6Vp-7"
   },
   "outputs": [],
   "source": [
    "answers['8'] = 1478 # +"
   ]
  },
  {
   "cell_type": "code",
   "execution_count": 190,
   "metadata": {},
   "outputs": [
    {
     "data": {
      "text/plain": [
       "1478"
      ]
     },
     "execution_count": 190,
     "metadata": {},
     "output_type": "execute_result"
    }
   ],
   "source": [
    "len(data.query('revenue > budget'))\n",
    "# количество строк с фильмами, у которых сборы выше бюджета"
   ]
  },
  {
   "cell_type": "markdown",
   "metadata": {},
   "source": [
    "ВАРИАНТ 2"
   ]
  },
  {
   "cell_type": "code",
   "execution_count": 191,
   "metadata": {},
   "outputs": [
    {
     "data": {
      "text/plain": [
       "1478"
      ]
     },
     "execution_count": 191,
     "metadata": {},
     "output_type": "execute_result"
    }
   ],
   "source": [
    "data[data.revenue > data.budget].imdb_id.nunique()\n",
    "# количество уникальных id фильмов, где сборы выше бюджета"
   ]
  },
  {
   "cell_type": "code",
   "execution_count": 192,
   "metadata": {},
   "outputs": [
    {
     "data": {
      "image/png": "[encoded data removed]",
      "text/plain": [
       "<Figure size 936x720 with 1 Axes>"
      ]
     },
     "metadata": {},
     "output_type": "display_data"
    }
   ],
   "source": [
    "# Визуализируем разницу между бюджетом и кассовыми сборами \n",
    "# у лидеров проката (20-ка лучших)\n",
    "\n",
    "# устанавливаем белую тему\n",
    "sns.set(style=\"whitegrid\")\n",
    "\n",
    "# определяем тип графика\n",
    "f, ax = plt.subplots(figsize=(13,10))\n",
    "\n",
    "# создаем данные для графика, сортируем по убыванию \n",
    "# и берем первые 20\n",
    "data_chart_sns = data_chart.sort_values(by='revenue', \n",
    "                                        ascending=False)[:20]\n",
    "\n",
    "# описываем кассавые сборы\n",
    "sns.set_color_codes(\"pastel\")\n",
    "sns.barplot(x=\"revenue\", y=\"original_title\", data=data_chart_sns,\n",
    "            label=\"revenue\", color=\"b\")\n",
    "\n",
    "# описываем бюджет\n",
    "sns.set_color_codes(\"muted\")\n",
    "sns.barplot(x=\"budget\", y=\"original_title\", data=data_chart_sns,\n",
    "            label=\"budget\", color=\"b\")\n",
    "\n",
    "# описываем легенду\n",
    "ax.legend(ncol=2, loc=\"lower right\", frameon=True)\n",
    "ax.set(xlabel=\"Comparative bar Budget/Revenue\")\n",
    "sns.despine(left=True, bottom=True)"
   ]
  },
  {
   "cell_type": "markdown",
   "metadata": {
    "colab_type": "text",
    "id": "xhpspA9KVp_A"
   },
   "source": [
    "# 9. Какой фильм оказался самым кассовым в 2008 году?"
   ]
  },
  {
   "cell_type": "code",
   "execution_count": 193,
   "metadata": {
    "colab": {},
    "colab_type": "code",
    "id": "MoUyQr9RVp_B"
   },
   "outputs": [],
   "source": [
    "answers['9'] = 'The Dark Knight (tt0468569)' # +"
   ]
  },
  {
   "cell_type": "code",
   "execution_count": 194,
   "metadata": {},
   "outputs": [
    {
     "name": "stdout",
     "output_type": "stream",
     "text": [
      "The Dark Knight (tt0468569)\n"
     ]
    }
   ],
   "source": [
    "# отбираем фильмы за 2008год\n",
    "data_2008 = data.query('release_year == 2008') \n",
    "# выбираем самый кассовый фильм\n",
    "movie = data_2008.query('revenue == revenue.max()').iloc[0]\n",
    "print('{} ({})'.format(movie.original_title, movie.imdb_id))"
   ]
  },
  {
   "cell_type": "markdown",
   "metadata": {},
   "source": [
    "ВАРИАНТ 2"
   ]
  },
  {
   "cell_type": "code",
   "execution_count": 195,
   "metadata": {},
   "outputs": [
    {
     "data": {
      "text/plain": [
       "original_title    The Dark Knight\n",
       "imdb_id                 tt0468569\n",
       "revenue                1001921825\n",
       "Name: 599, dtype: object"
      ]
     },
     "execution_count": 195,
     "metadata": {},
     "output_type": "execute_result"
    }
   ],
   "source": [
    "data[['original_title', 'imdb_id', \n",
    "      'revenue']][data.release_year == 2008].sort_values(by='revenue', \n",
    "                                                         ascending=False).iloc[0]\n",
    "# код в одну строку, неудобный для просмотра"
   ]
  },
  {
   "cell_type": "markdown",
   "metadata": {
    "colab_type": "text",
    "id": "Zi4hDKidVp_F"
   },
   "source": [
    "# 10. Самый убыточный фильм за период с 2012 по 2014 г. (включительно)?\n"
   ]
  },
  {
   "cell_type": "code",
   "execution_count": 196,
   "metadata": {
    "colab": {},
    "colab_type": "code",
    "id": "XqyRmufJVp_F"
   },
   "outputs": [],
   "source": [
    "answers['10'] = 'The Lone Ranger (tt1210819)' # +"
   ]
  },
  {
   "cell_type": "code",
   "execution_count": 197,
   "metadata": {},
   "outputs": [
    {
     "name": "stdout",
     "output_type": "stream",
     "text": [
      "The Lone Ranger (tt1210819)\n"
     ]
    }
   ],
   "source": [
    "# отбираем фильмы за 3 года\n",
    "data_year = data.query('2012 <= release_year <= 2014')\n",
    "# отбираем фильм с самым минимальным доходом\n",
    "bad_movie = data_year.query('profit == profit.min()').iloc[0] \n",
    "print('{} ({})'.format(bad_movie.original_title, bad_movie.imdb_id))"
   ]
  },
  {
   "cell_type": "markdown",
   "metadata": {
    "colab_type": "text",
    "id": "EA7Sa9dkVp_I"
   },
   "source": [
    "# 11. Какого жанра фильмов больше всего?"
   ]
  },
  {
   "cell_type": "code",
   "execution_count": 0,
   "metadata": {
    "colab": {},
    "colab_type": "code",
    "id": "zsJAwJ8QVp_J"
   },
   "outputs": [],
   "source": [
    "# эту задачу тоже можно решать разными подходами, попробуй реализовать разные варианты\n",
    "# если будешь добавлять функцию - выноси ее в предобработку что в начале"
   ]
  },
  {
   "cell_type": "code",
   "execution_count": 198,
   "metadata": {},
   "outputs": [],
   "source": [
    "answers['11'] = 'Drama' # +"
   ]
  },
  {
   "cell_type": "code",
   "execution_count": 199,
   "metadata": {},
   "outputs": [
    {
     "name": "stdout",
     "output_type": "stream",
     "text": [
      "Drama\n"
     ]
    }
   ],
   "source": [
    "# создаем большой список из всех жанров, переводим в Series и считаем жанры\n",
    "genres = pd.Series(data.genres.str.cat(sep='|').split('|')).value_counts()\n",
    "print(genres.index[0])"
   ]
  },
  {
   "cell_type": "markdown",
   "metadata": {
    "colab_type": "text",
    "id": "Ax6g2C8SVp_M"
   },
   "source": [
    "ВАРИАНТ 2"
   ]
  },
  {
   "cell_type": "code",
   "execution_count": 200,
   "metadata": {
    "colab": {},
    "colab_type": "code",
    "id": "otO3SbrSVp_N"
   },
   "outputs": [
    {
     "name": "stdout",
     "output_type": "stream",
     "text": [
      "Drama\n"
     ]
    }
   ],
   "source": [
    "genres = data.genres.str.split('|') \n",
    "# чтобы не менять формат колонки в DataFrame, работаем с переменной\n",
    "#(в таблице визуально лучше, когда жанры разделены '|')\n",
    "# для удобной работы с объектами Series, меняем разделитель на \",\"\n",
    "\n",
    "# создаем большой список (по анналогии с первым вариантом)\n",
    "genres = genres.explode()\n",
    "\n",
    "# считаем количество каждого объекта\n",
    "top_genres = genres.value_counts()\n",
    "print(top_genres.index[0])"
   ]
  },
  {
   "cell_type": "markdown",
   "metadata": {},
   "source": [
    "ВАРИАНТ 3"
   ]
  },
  {
   "cell_type": "code",
   "execution_count": 201,
   "metadata": {},
   "outputs": [
    {
     "data": {
      "text/plain": [
       "'Drama'"
      ]
     },
     "execution_count": 201,
     "metadata": {},
     "output_type": "execute_result"
    }
   ],
   "source": [
    "genres = data.genres.str.split('|')\n",
    "count_elements(genres) # используем функцию, созданную в предобработке"
   ]
  },
  {
   "cell_type": "code",
   "execution_count": 202,
   "metadata": {},
   "outputs": [
    {
     "data": {
      "text/plain": [
       "<matplotlib.axes._subplots.AxesSubplot at 0x1deb0100>"
      ]
     },
     "execution_count": 202,
     "metadata": {},
     "output_type": "execute_result"
    },
    {
     "data": {
      "image/png": "[encoded data removed]",
      "text/plain": [
       "<Figure size 1224x360 with 1 Axes>"
      ]
     },
     "metadata": {},
     "output_type": "display_data"
    }
   ],
   "source": [
    "# используя решение второго варианта продемонстрируем десятку популярных жанров\n",
    "top_genres[:10].plot(kind='bar')"
   ]
  },
  {
   "cell_type": "markdown",
   "metadata": {
    "colab_type": "text",
    "id": "T9_bPWpkVp_Q"
   },
   "source": [
    "# 12. Фильмы какого жанра чаще всего становятся прибыльными? "
   ]
  },
  {
   "cell_type": "code",
   "execution_count": 203,
   "metadata": {
    "colab": {},
    "colab_type": "code",
    "id": "Tmt8MaK1Vp_R"
   },
   "outputs": [],
   "source": [
    "answers['12'] = 'Drama' # +"
   ]
  },
  {
   "cell_type": "code",
   "execution_count": 204,
   "metadata": {},
   "outputs": [
    {
     "data": {
      "text/plain": [
       "'Drama'"
      ]
     },
     "execution_count": 204,
     "metadata": {},
     "output_type": "execute_result"
    }
   ],
   "source": [
    "#создаем спиок жанров прибыльных фильмов, переводим в Series и считаем значения\n",
    "profitable_genres = pd.Series(data.genres[data.profit > 0]\n",
    "                              .str.cat(sep='|').split('|')).value_counts()\n",
    "profitable_genres.index[0]"
   ]
  },
  {
   "cell_type": "markdown",
   "metadata": {},
   "source": [
    "ВАРИАНТ 2"
   ]
  },
  {
   "cell_type": "code",
   "execution_count": 205,
   "metadata": {},
   "outputs": [
    {
     "data": {
      "text/plain": [
       "'Drama'"
      ]
     },
     "execution_count": 205,
     "metadata": {},
     "output_type": "execute_result"
    }
   ],
   "source": [
    "# отбираем жанры только прибыльных фильмов\n",
    "profit_genres = data[data.profit > 0].genres.str.split('|') \n",
    "count_elements(profit_genres) # используем функцию из предобработки"
   ]
  },
  {
   "cell_type": "code",
   "execution_count": 206,
   "metadata": {},
   "outputs": [
    {
     "data": {
      "text/plain": [
       "<matplotlib.axes._subplots.AxesSubplot at 0x1deb09b8>"
      ]
     },
     "execution_count": 206,
     "metadata": {},
     "output_type": "execute_result"
    },
    {
     "data": {
      "image/png": "[encoded data removed]",
      "text/plain": [
       "<Figure size 1224x360 with 1 Axes>"
      ]
     },
     "metadata": {},
     "output_type": "display_data"
    }
   ],
   "source": [
    "# продемонстрируем прибыльность разных жанров\n",
    "profitable_genres.plot(kind='bar')"
   ]
  },
  {
   "cell_type": "markdown",
   "metadata": {
    "colab_type": "text",
    "id": "0F23bgsDVp_U"
   },
   "source": [
    "# 13. У какого режиссера самые большие суммарные кассовые сборы?"
   ]
  },
  {
   "cell_type": "code",
   "execution_count": 207,
   "metadata": {
    "colab": {},
    "colab_type": "code",
    "id": "K6Z3J8ygVp_X"
   },
   "outputs": [],
   "source": [
    "answers['13'] = 'Peter Jackson' # +"
   ]
  },
  {
   "cell_type": "code",
   "execution_count": 208,
   "metadata": {},
   "outputs": [
    {
     "data": {
      "text/plain": [
       "'Peter Jackson'"
      ]
     },
     "execution_count": 208,
     "metadata": {},
     "output_type": "execute_result"
    }
   ],
   "source": [
    "# группируем данные по колонке режисеров и сумме кассовых сборов\n",
    "top_director = data.groupby(['director'])['revenue'].sum().sort_values(ascending=False)\n",
    "top_director.index[0]"
   ]
  },
  {
   "cell_type": "code",
   "execution_count": 209,
   "metadata": {},
   "outputs": [
    {
     "data": {
      "text/plain": [
       "<matplotlib.axes._subplots.AxesSubplot at 0x11bd9d78>"
      ]
     },
     "execution_count": 209,
     "metadata": {},
     "output_type": "execute_result"
    },
    {
     "data": {
      "image/png": "[encoded data removed]",
      "text/plain": [
       "<Figure size 1224x360 with 1 Axes>"
      ]
     },
     "metadata": {},
     "output_type": "display_data"
    }
   ],
   "source": [
    "# 20 лучших режиссеров\n",
    "top_director[:20].plot(kind='bar')"
   ]
  },
  {
   "cell_type": "markdown",
   "metadata": {
    "colab_type": "text",
    "id": "PsYC9FgRVp_a"
   },
   "source": [
    "# 14. Какой режисер снял больше всего фильмов в стиле Action?"
   ]
  },
  {
   "cell_type": "code",
   "execution_count": 210,
   "metadata": {},
   "outputs": [],
   "source": [
    "answers['14'] = 'Robert Rodriguez' # +"
   ]
  },
  {
   "cell_type": "code",
   "execution_count": 211,
   "metadata": {
    "colab": {},
    "colab_type": "code",
    "id": "wd2M-wHeVp_b"
   },
   "outputs": [
    {
     "data": {
      "text/plain": [
       "'Robert Rodriguez'"
      ]
     },
     "execution_count": 211,
     "metadata": {},
     "output_type": "execute_result"
    }
   ],
   "source": [
    "# отбираем данные по жанру Action и считаем режисеров\n",
    "pd.Series(data[data.genres.str.contains('Action')]\n",
    "          .director.str.cat(sep='|').split('|')).value_counts().index[0]"
   ]
  },
  {
   "cell_type": "markdown",
   "metadata": {
    "colab_type": "text",
    "id": "PQ0KciD7Vp_f"
   },
   "source": [
    "# 15. Фильмы с каким актером принесли самые высокие кассовые сборы в 2012 году? "
   ]
  },
  {
   "cell_type": "code",
   "execution_count": 212,
   "metadata": {
    "colab": {},
    "colab_type": "code",
    "id": "aga62oeKVp_g"
   },
   "outputs": [],
   "source": [
    "answers['15'] = 'Chris Hemsworth' # +"
   ]
  },
  {
   "cell_type": "code",
   "execution_count": 213,
   "metadata": {},
   "outputs": [
    {
     "data": {
      "text/plain": [
       "'Chris Hemsworth'"
      ]
     },
     "metadata": {},
     "output_type": "display_data"
    }
   ],
   "source": [
    "# отбираем фильмы за 2012 год\n",
    "data_2012 = data[data.release_year == 2012].copy()\n",
    "\n",
    "# убираем разделитель '|' в строках с актерами\n",
    "data_2012.cast = data_2012.cast.str.split('|')\n",
    "\n",
    "# расширяем DataFrame по списку актеров\n",
    "data_2012 = data_2012.explode('cast')\n",
    "\n",
    "# группируем данные по актерам и суммам сборов, сортируем результат\n",
    "data_2012 = data_2012.groupby(['cast'])['revenue'].sum().sort_values(ascending=False)\n",
    "display(data_2012.index[0])"
   ]
  },
  {
   "cell_type": "markdown",
   "metadata": {},
   "source": [
    "ВАРИАНТ 2"
   ]
  },
  {
   "cell_type": "code",
   "execution_count": 214,
   "metadata": {},
   "outputs": [
    {
     "name": "stdout",
     "output_type": "stream",
     "text": [
      "Chris Hemsworth\n"
     ]
    }
   ],
   "source": [
    "# отбираем фильмы за 2012 год\n",
    "data_2012 = data[data.release_year == 2012].copy()\n",
    "# создаем список из всех актеров за 2012 год\n",
    "acters = pd.Series(data_2012.cast.str.cat(sep='|').split('|')).unique().tolist()\n",
    "\n",
    "\n",
    "# создаем список для хранения сумм кассовых сборов\n",
    "sum_revenue = [] \n",
    "# создаем цикл для подсчета суммы сборов по всем фильмам каждого актера\n",
    "# и сохраняем в список sum_revenue\n",
    "for acter in acters:\n",
    "    sum_revenue.append(data_2012[data_2012.cast.str.contains(acter)].revenue.sum())\n",
    "\n",
    "    \n",
    "# создаем DataFrame с перечнем актеров и суммами сборов по их фильмам\n",
    "d = {'acter':acters, 'revenue':sum_revenue}\n",
    "cast_revenue = pd.DataFrame(data = d)\n",
    "\n",
    "\n",
    "# сортируем данные по сборам\n",
    "top_cast = cast_revenue.sort_values(by='revenue', ascending=False)\n",
    "print(top_cast.iloc[0]['acter'])"
   ]
  },
  {
   "cell_type": "markdown",
   "metadata": {
    "colab_type": "text",
    "id": "mWHyyL7QVp_j"
   },
   "source": [
    "# 16. Какой актер снялся в большем количестве высокобюджетных фильмов?"
   ]
  },
  {
   "cell_type": "code",
   "execution_count": 215,
   "metadata": {
    "colab": {},
    "colab_type": "code",
    "id": "qQtmHKTFVp_k"
   },
   "outputs": [],
   "source": [
    "answers['16'] = 'Matt Damon' # +"
   ]
  },
  {
   "cell_type": "code",
   "execution_count": 216,
   "metadata": {},
   "outputs": [
    {
     "data": {
      "text/plain": [
       "'Matt Damon'"
      ]
     },
     "execution_count": 216,
     "metadata": {},
     "output_type": "execute_result"
    }
   ],
   "source": [
    "# отбираем фильмы с бюджетом выше среднего\n",
    "data_budget = data[data.budget > data.budget.mean()].copy()\n",
    "\n",
    "# собираем информацию по актерам из высокобюджетных фильмов, \n",
    "# считаем количество по каждому актеру\n",
    "acters_maxbudget = pd.Series(data_budget.cast.str.cat(sep='|').split('|')).value_counts()\n",
    "\n",
    "# выбираем актера с большим количеством фильмов\n",
    "acters_maxbudget.sort_values(ascending=False).index[0]"
   ]
  },
  {
   "cell_type": "markdown",
   "metadata": {
    "colab_type": "text",
    "id": "NIh6AaW5Vp_n"
   },
   "source": [
    "# 17. В фильмах какого жанра больше всего снимался Nicolas Cage? "
   ]
  },
  {
   "cell_type": "code",
   "execution_count": 217,
   "metadata": {
    "colab": {},
    "colab_type": "code",
    "id": "H74SJDIBVp_n"
   },
   "outputs": [],
   "source": [
    "answers['17'] = 'Action' # +"
   ]
  },
  {
   "cell_type": "code",
   "execution_count": 218,
   "metadata": {},
   "outputs": [
    {
     "data": {
      "text/plain": [
       "'Action'"
      ]
     },
     "execution_count": 218,
     "metadata": {},
     "output_type": "execute_result"
    }
   ],
   "source": [
    "# отбираем фильмы, в которых снимался Nicolas Cage, \n",
    "# считаем жанры и выбираем самый многочисленный\n",
    "Cage_data = data[data.cast.str.contains('Nicolas Cage')]\n",
    "Cage_genres = pd.Series(Cage_data.genres.str.cat(sep='|').split('|')).value_counts()\n",
    "Cage_genres.sort_values(ascending=False).index[0]"
   ]
  },
  {
   "cell_type": "markdown",
   "metadata": {
    "colab_type": "text",
    "id": "RqOmPRfWVp_q"
   },
   "source": [
    "# 18. Самый убыточный фильм от Paramount Pictures"
   ]
  },
  {
   "cell_type": "code",
   "execution_count": 219,
   "metadata": {
    "colab": {},
    "colab_type": "code",
    "id": "9E_B0Y96Vp_r"
   },
   "outputs": [],
   "source": [
    "answers['18'] = 'K-19: The Widowmaker (tt0267626)' # +"
   ]
  },
  {
   "cell_type": "code",
   "execution_count": 220,
   "metadata": {},
   "outputs": [
    {
     "name": "stdout",
     "output_type": "stream",
     "text": [
      "K-19: The Widowmaker (tt0267626)\n"
     ]
    }
   ],
   "source": [
    "PP_data = data[data.production_companies.str.contains(\"Paramount Pictures\")].copy()\n",
    "min_profit = PP_data.sort_values(by='profit').iloc[0]\n",
    "\n",
    "print('{} ({})'.format(min_profit['original_title'], min_profit['imdb_id']))"
   ]
  },
  {
   "cell_type": "markdown",
   "metadata": {
    "colab_type": "text",
    "id": "vS8Ur6ddVp_u"
   },
   "source": [
    "# 19. Какой год стал самым успешным по суммарным кассовым сборам?"
   ]
  },
  {
   "cell_type": "code",
   "execution_count": 221,
   "metadata": {},
   "outputs": [],
   "source": [
    "answers['19'] = 2015 # +"
   ]
  },
  {
   "cell_type": "code",
   "execution_count": 222,
   "metadata": {
    "colab": {},
    "colab_type": "code",
    "id": "Dnbt4GdIVp_v",
    "scrolled": true
   },
   "outputs": [
    {
     "name": "stdout",
     "output_type": "stream",
     "text": [
      "2015\n"
     ]
    }
   ],
   "source": [
    "# группируем данные по годам и кассовым сборам, \n",
    "# суммируем сборы и выбираем максимальное значение\n",
    "profit_year = data.groupby(['release_year'])['revenue'].sum().sort_values(ascending=False)\n",
    "print(profit_year.index[0])"
   ]
  },
  {
   "cell_type": "code",
   "execution_count": 223,
   "metadata": {},
   "outputs": [
    {
     "data": {
      "text/plain": [
       "<matplotlib.axes._subplots.AxesSubplot at 0x1e0e07f0>"
      ]
     },
     "execution_count": 223,
     "metadata": {},
     "output_type": "execute_result"
    },
    {
     "data": {
      "image/png": "[encoded data removed]",
      "text/plain": [
       "<Figure size 1224x360 with 1 Axes>"
      ]
     },
     "metadata": {},
     "output_type": "display_data"
    }
   ],
   "source": [
    "# продемонстрируем как росли сборы по годам\n",
    "profit_year.sort_values().plot(kind='bar')"
   ]
  },
  {
   "cell_type": "markdown",
   "metadata": {
    "colab_type": "text",
    "id": "JAzJh4QAVp_z"
   },
   "source": [
    "# 20. Какой самый прибыльный год для студии Warner Bros?"
   ]
  },
  {
   "cell_type": "code",
   "execution_count": 224,
   "metadata": {
    "colab": {},
    "colab_type": "code",
    "id": "wgVu02DEVp_0"
   },
   "outputs": [],
   "source": [
    "answers['20'] = 2014 # +"
   ]
  },
  {
   "cell_type": "code",
   "execution_count": 225,
   "metadata": {},
   "outputs": [
    {
     "data": {
      "text/plain": [
       "2014"
      ]
     },
     "execution_count": 225,
     "metadata": {},
     "output_type": "execute_result"
    }
   ],
   "source": [
    "WB_year = data[data.production_companies.\n",
    "               str.contains('Warner Bros')].groupby(['release_year'])['profit'].sum()\n",
    "WB_year.sort_values(ascending=False).index[0]"
   ]
  },
  {
   "cell_type": "markdown",
   "metadata": {
    "colab_type": "text",
    "id": "8Im1S2HRVp_4"
   },
   "source": [
    "# 21. В каком месяце за все годы суммарно вышло больше всего фильмов?"
   ]
  },
  {
   "cell_type": "code",
   "execution_count": 226,
   "metadata": {
    "colab": {},
    "colab_type": "code",
    "id": "lev6TH7gVp_4"
   },
   "outputs": [],
   "source": [
    "answers['21'] = 'September' # +"
   ]
  },
  {
   "cell_type": "code",
   "execution_count": 227,
   "metadata": {
    "scrolled": false
   },
   "outputs": [
    {
     "name": "stdout",
     "output_type": "stream",
     "text": [
      "September\n"
     ]
    }
   ],
   "source": [
    "# для решения задания используем DataFrame с месяцами из предобработки\n",
    "# группируем данные по месяцам и считаем количество фильмов\n",
    "top_month = MonthRelease_data.groupby(['month_release'])['imdb_id'].count().sort_values(ascending=False)\n",
    "print(top_month.index[0])"
   ]
  },
  {
   "cell_type": "code",
   "execution_count": 228,
   "metadata": {},
   "outputs": [
    {
     "data": {
      "text/plain": [
       "<matplotlib.axes._subplots.AxesSubplot at 0x1e1f7898>"
      ]
     },
     "execution_count": 228,
     "metadata": {},
     "output_type": "execute_result"
    },
    {
     "data": {
      "image/png": "[encoded data removed]",
      "text/plain": [
       "<Figure size 1224x360 with 1 Axes>"
      ]
     },
     "metadata": {},
     "output_type": "display_data"
    }
   ],
   "source": [
    "# отобразим все месяцы в порядке убывания фильмов\n",
    "top_month.plot(kind='bar')"
   ]
  },
  {
   "cell_type": "markdown",
   "metadata": {
    "colab_type": "text",
    "id": "uAJsZ_NeVp_7"
   },
   "source": [
    "# 22. Сколько суммарно вышло фильмов летом? (за июнь, июль, август)"
   ]
  },
  {
   "cell_type": "code",
   "execution_count": 229,
   "metadata": {
    "colab": {},
    "colab_type": "code",
    "id": "Aa-hEREoVp_8"
   },
   "outputs": [],
   "source": [
    "answers['22'] = 450 # +"
   ]
  },
  {
   "cell_type": "code",
   "execution_count": 230,
   "metadata": {},
   "outputs": [
    {
     "data": {
      "text/plain": [
       "450"
      ]
     },
     "execution_count": 230,
     "metadata": {},
     "output_type": "execute_result"
    }
   ],
   "source": [
    "# используя сгруппированнные данные из прошлого задания, находим количество за три месяца\n",
    "top_month[['June', 'July', 'August']].sum()"
   ]
  },
  {
   "cell_type": "markdown",
   "metadata": {},
   "source": [
    "ВАРИАНТ 2"
   ]
  },
  {
   "cell_type": "code",
   "execution_count": 231,
   "metadata": {},
   "outputs": [
    {
     "data": {
      "text/plain": [
       "450"
      ]
     },
     "execution_count": 231,
     "metadata": {},
     "output_type": "execute_result"
    }
   ],
   "source": [
    "# используя DataFrame из предобработки, делаем отбор по месяцам \n",
    "# и считаем количество уникальных id фильмов\n",
    "MonthRelease_data.query('month_release in [\"June\", \"July\", \"August\"]').imdb_id.count()"
   ]
  },
  {
   "cell_type": "markdown",
   "metadata": {
    "colab_type": "text",
    "id": "G94ppOY1VqAA"
   },
   "source": [
    "# 23. Для какого режиссера зима – самое продуктивное время года? "
   ]
  },
  {
   "cell_type": "code",
   "execution_count": 232,
   "metadata": {
    "colab": {},
    "colab_type": "code",
    "id": "RhNTsamuVqAB"
   },
   "outputs": [],
   "source": [
    "answers['23'] = 'Peter Jackson' # +"
   ]
  },
  {
   "cell_type": "code",
   "execution_count": 235,
   "metadata": {},
   "outputs": [
    {
     "data": {
      "text/plain": [
       "'Peter Jackson'"
      ]
     },
     "metadata": {},
     "output_type": "display_data"
    }
   ],
   "source": [
    "# используем DataFrame с месяцами выхода фильмов из предобработки\n",
    "# создаем DataFrame с данными только по зимним месяцам\n",
    "winter_data = MonthRelease_data.query('month_release in [\"December\", \"January\", \"February\"]')\n",
    "\n",
    "# разделяем режиссеров без '|'\n",
    "winter_data.director = winter_data.director.str.split('|')\n",
    "\n",
    "# расширяем зимний DataFrame в соответствии с количеством режиссеров\n",
    "winter_data = winter_data.explode('director')\n",
    "\n",
    "# группируем данные по режиссерам и количеству их фильмов\n",
    "win_dir = winter_data.groupby(['director'])['imdb_id'].count().sort_values( ascending=False)\n",
    "\n",
    "display(win_dir.index[0])"
   ]
  },
  {
   "cell_type": "markdown",
   "metadata": {},
   "source": [
    "ВАРИАНТ 2"
   ]
  },
  {
   "cell_type": "code",
   "execution_count": 234,
   "metadata": {},
   "outputs": [
    {
     "name": "stdout",
     "output_type": "stream",
     "text": [
      "Peter Jackson\n"
     ]
    }
   ],
   "source": [
    "# создаем DataFrame с данными только по зимним месяцам\n",
    "winter_data = MonthRelease_data.query('month_release in [\"December\", \"January\", \"February\"]')\n",
    "\n",
    "# самый простой способ получить количество фильмов по режисерам \n",
    "# - это сгруппировать данные, но не самый правильный, \n",
    "# из-за наличия списка режисеров по некоторым фильмам\n",
    "WintMovies = winter_data.groupby(['director'])['imdb_id'].count().sort_values(ascending=False)\n",
    "print(WintMovies.index[0])"
   ]
  },
  {
   "cell_type": "markdown",
   "metadata": {},
   "source": [
    "ВАРИАНТ 3"
   ]
  },
  {
   "cell_type": "code",
   "execution_count": 236,
   "metadata": {},
   "outputs": [
    {
     "name": "stdout",
     "output_type": "stream",
     "text": [
      "Peter Jackson\n"
     ]
    }
   ],
   "source": [
    "# создаем DataFrame с данными только по зимним месяцам\n",
    "winter_data = MonthRelease_data.query('month_release in [\"December\", \"January\", \"February\"]')\n",
    "\n",
    "# создаем список всех режисеров\n",
    "winter_directors = pd.Series(winter_data.director\n",
    "                             .str.cat(sep='|').split('|')).unique().tolist()\n",
    "\n",
    "# создаем список для хранения количества фильмов\n",
    "director_movie = [] \n",
    "# по списку режисеров считаем количество фильмов зимой\n",
    "for director in winter_directors:\n",
    "    director_movie.append(winter_data\n",
    "                          [winter_data.director.str.contains(director)].imdb_id.count())\n",
    "\n",
    "# создаем DataFrame с фильмами по режисерам и сортируем его\n",
    "WintMovies_director =pd.DataFrame({'director':winter_directors, \n",
    "                                   'count_movies':director_movie})\n",
    "WintMovies_director = WintMovies_director.sort_values(by='count_movies', \n",
    "                                                      ascending=False)\n",
    "print(WintMovies_director.iloc[0]['director'])"
   ]
  },
  {
   "cell_type": "markdown",
   "metadata": {
    "colab_type": "text",
    "id": "RBo0JVjVVqAF"
   },
   "source": [
    "# 24. Какая студия дает самые длинные названия своим фильмам по количеству символов?"
   ]
  },
  {
   "cell_type": "code",
   "execution_count": 237,
   "metadata": {
    "colab": {},
    "colab_type": "code",
    "id": "QRGS8L0iVqAG"
   },
   "outputs": [],
   "source": [
    "answers['24'] = 'Four By Two Productions' # +"
   ]
  },
  {
   "cell_type": "code",
   "execution_count": 238,
   "metadata": {},
   "outputs": [
    {
     "name": "stdout",
     "output_type": "stream",
     "text": [
      "Four By Two Productions\n"
     ]
    }
   ],
   "source": [
    "# создаем новый DataFrame для поиска решения\n",
    "dt1 = data.copy()\n",
    "\n",
    "# создаем список студий в каждой строке файла\n",
    "dt1['production_companies'] = dt1.production_companies.str.split('|')\n",
    "\n",
    "# добавляем столбец с длиной названий фильмов\n",
    "dt1['title_length'] = dt1['original_title'].map(lambda x: len(x))\n",
    "\n",
    "# создаем дубли строк с разными студиями\n",
    "dt1 = dt1.explode('production_companies')\n",
    "\n",
    "# группируем данные по студиям и средними значениями длин названий фильмов, сортируем по убыванию\n",
    "mean_length = dt1.groupby(['production_companies'])['title_length'].mean().sort_values(ascending=False)\n",
    "\n",
    "# находим студию с большей длиной названия\n",
    "print(mean_length.index[0])"
   ]
  },
  {
   "cell_type": "markdown",
   "metadata": {
    "colab_type": "text",
    "id": "9G0hbvR7VqAK"
   },
   "source": [
    "# 25. Описание фильмов какой студии в среднем самые длинные по количеству слов?"
   ]
  },
  {
   "cell_type": "code",
   "execution_count": 239,
   "metadata": {
    "colab": {},
    "colab_type": "code",
    "id": "Ge2GsLNxVqAK"
   },
   "outputs": [],
   "source": [
    "answers['25'] = 'Midnight Picture Show' # +"
   ]
  },
  {
   "cell_type": "code",
   "execution_count": 240,
   "metadata": {},
   "outputs": [
    {
     "name": "stdout",
     "output_type": "stream",
     "text": [
      "Midnight Picture Show\n"
     ]
    }
   ],
   "source": [
    "# создаем новый DataFrame для поиска решения\n",
    "data_1 = data.copy()\n",
    "\n",
    "# создаем список студий в каждой строке файла\n",
    "data_1['production_companies'] = data_1.production_companies.str.split('|')\n",
    "\n",
    "# добавляем столбец с длиной описания фильмов\n",
    "data_1['overview_length'] = (data_1.overview.str.split()).str.len()\n",
    "\n",
    "# создаем дубли строк с разными студиями\n",
    "data_1 = data_1.explode('production_companies')\n",
    "\n",
    "# группируем данные по студиям и средними значениями длин описаний фильмов, сортируем по убыванию\n",
    "mean_overview = data_1.groupby(['production_companies'])['overview_length'].mean().sort_values(ascending=False)\n",
    "\n",
    "# находим студию с большей длиной описания\n",
    "print(mean_overview.index[0])"
   ]
  },
  {
   "cell_type": "markdown",
   "metadata": {},
   "source": [
    "ВАРИАНТ 2"
   ]
  },
  {
   "cell_type": "code",
   "execution_count": 242,
   "metadata": {},
   "outputs": [
    {
     "data": {
      "text/plain": [
       "'Midnight Picture Show'"
      ]
     },
     "metadata": {},
     "output_type": "display_data"
    }
   ],
   "source": [
    "# создаем копию данных для поиска решения\n",
    "data_2 = data.copy()\n",
    "\n",
    "# создаем список всех студий\n",
    "companies = pd.Series(data_2.production_companies.str.cat(sep='|')\n",
    "                      .split('|')).unique().tolist()\n",
    "\n",
    "# находим длину описания и создаем столбец\n",
    "len_overview = (data_2.overview.str.split()).str.len()\n",
    "data_2.insert(5, 'overview_length', len_overview)\n",
    "\n",
    "# по списку всех студий считаем среднюю длину описаний и вносим в отдельный список\n",
    "count_overview = []\n",
    "for company in companies:\n",
    "    count_overview.append(round(data_2[data_2.production_companies.str.contains(company)]\n",
    "                             .overview_length.mean(), 2))\n",
    "    \n",
    "# создаем DataFrame с данными по студиям и длинами описаний, сортируем по убыванию\n",
    "overview_long = pd.DataFrame({'companies': companies, \n",
    "                           'mean_overview': count_overview}).sort_values(by='mean_overview', \n",
    "                                                                         ascending=False)\n",
    "\n",
    "# находим студию с наибольшим средним значением длины\n",
    "display(overview_long.iloc[0]['companies'])"
   ]
  },
  {
   "cell_type": "markdown",
   "metadata": {
    "colab_type": "text",
    "id": "FJ1AFt90VqAP"
   },
   "source": [
    "# 26. Какие фильмы входят в 1 процент лучших по рейтингу? \n",
    "по vote_average"
   ]
  },
  {
   "cell_type": "code",
   "execution_count": 243,
   "metadata": {
    "colab": {},
    "colab_type": "code",
    "id": "8qmJVq4CVqAQ"
   },
   "outputs": [],
   "source": [
    "answers['26'] = 'Inside Out, The Dark Knight, 12 Years a Slave' # +"
   ]
  },
  {
   "cell_type": "code",
   "execution_count": 244,
   "metadata": {},
   "outputs": [
    {
     "data": {
      "text/html": [
       "<div>\n",
       "<style scoped>\n",
       "    .dataframe tbody tr th:only-of-type {\n",
       "        vertical-align: middle;\n",
       "    }\n",
       "\n",
       "    .dataframe tbody tr th {\n",
       "        vertical-align: top;\n",
       "    }\n",
       "\n",
       "    .dataframe thead th {\n",
       "        text-align: right;\n",
       "    }\n",
       "</style>\n",
       "<table border=\"1\" class=\"dataframe\">\n",
       "  <thead>\n",
       "    <tr style=\"text-align: right;\">\n",
       "      <th></th>\n",
       "      <th>original_title</th>\n",
       "      <th>vote_average</th>\n",
       "    </tr>\n",
       "  </thead>\n",
       "  <tbody>\n",
       "    <tr>\n",
       "      <th>599</th>\n",
       "      <td>The Dark Knight</td>\n",
       "      <td>8.1</td>\n",
       "    </tr>\n",
       "    <tr>\n",
       "      <th>118</th>\n",
       "      <td>Interstellar</td>\n",
       "      <td>8.0</td>\n",
       "    </tr>\n",
       "    <tr>\n",
       "      <th>125</th>\n",
       "      <td>The Imitation Game</td>\n",
       "      <td>8.0</td>\n",
       "    </tr>\n",
       "    <tr>\n",
       "      <th>9</th>\n",
       "      <td>Inside Out</td>\n",
       "      <td>8.0</td>\n",
       "    </tr>\n",
       "    <tr>\n",
       "      <th>34</th>\n",
       "      <td>Room</td>\n",
       "      <td>8.0</td>\n",
       "    </tr>\n",
       "    <tr>\n",
       "      <th>1183</th>\n",
       "      <td>The Wolf of Wall Street</td>\n",
       "      <td>7.9</td>\n",
       "    </tr>\n",
       "    <tr>\n",
       "      <th>128</th>\n",
       "      <td>Gone Girl</td>\n",
       "      <td>7.9</td>\n",
       "    </tr>\n",
       "    <tr>\n",
       "      <th>1191</th>\n",
       "      <td>12 Years a Slave</td>\n",
       "      <td>7.9</td>\n",
       "    </tr>\n",
       "    <tr>\n",
       "      <th>119</th>\n",
       "      <td>Guardians of the Galaxy</td>\n",
       "      <td>7.9</td>\n",
       "    </tr>\n",
       "    <tr>\n",
       "      <th>1081</th>\n",
       "      <td>The Lord of the Rings: The Return of the King</td>\n",
       "      <td>7.9</td>\n",
       "    </tr>\n",
       "    <tr>\n",
       "      <th>1800</th>\n",
       "      <td>Memento</td>\n",
       "      <td>7.9</td>\n",
       "    </tr>\n",
       "    <tr>\n",
       "      <th>370</th>\n",
       "      <td>Inception</td>\n",
       "      <td>7.9</td>\n",
       "    </tr>\n",
       "    <tr>\n",
       "      <th>872</th>\n",
       "      <td>The Pianist</td>\n",
       "      <td>7.9</td>\n",
       "    </tr>\n",
       "    <tr>\n",
       "      <th>138</th>\n",
       "      <td>The Grand Budapest Hotel</td>\n",
       "      <td>7.9</td>\n",
       "    </tr>\n",
       "    <tr>\n",
       "      <th>1188</th>\n",
       "      <td>Her</td>\n",
       "      <td>7.8</td>\n",
       "    </tr>\n",
       "    <tr>\n",
       "      <th>28</th>\n",
       "      <td>Spotlight</td>\n",
       "      <td>7.8</td>\n",
       "    </tr>\n",
       "    <tr>\n",
       "      <th>124</th>\n",
       "      <td>Big Hero 6</td>\n",
       "      <td>7.8</td>\n",
       "    </tr>\n",
       "    <tr>\n",
       "      <th>177</th>\n",
       "      <td>The Fault in Our Stars</td>\n",
       "      <td>7.8</td>\n",
       "    </tr>\n",
       "    <tr>\n",
       "      <th>863</th>\n",
       "      <td>The Lord of the Rings: The Two Towers</td>\n",
       "      <td>7.8</td>\n",
       "    </tr>\n",
       "  </tbody>\n",
       "</table>\n",
       "</div>"
      ],
      "text/plain": [
       "                                     original_title  vote_average\n",
       "599                                 The Dark Knight           8.1\n",
       "118                                    Interstellar           8.0\n",
       "125                              The Imitation Game           8.0\n",
       "9                                        Inside Out           8.0\n",
       "34                                             Room           8.0\n",
       "1183                        The Wolf of Wall Street           7.9\n",
       "128                                       Gone Girl           7.9\n",
       "1191                               12 Years a Slave           7.9\n",
       "119                         Guardians of the Galaxy           7.9\n",
       "1081  The Lord of the Rings: The Return of the King           7.9\n",
       "1800                                        Memento           7.9\n",
       "370                                       Inception           7.9\n",
       "872                                     The Pianist           7.9\n",
       "138                        The Grand Budapest Hotel           7.9\n",
       "1188                                            Her           7.8\n",
       "28                                        Spotlight           7.8\n",
       "124                                      Big Hero 6           7.8\n",
       "177                          The Fault in Our Stars           7.8\n",
       "863           The Lord of the Rings: The Two Towers           7.8"
      ]
     },
     "metadata": {},
     "output_type": "display_data"
    }
   ],
   "source": [
    "# с помощью data.info() мы знаем общее количество фильмов 1889\n",
    "# отсюда рассчитываем 1% фильмов: с округлением 19\n",
    "# остается отсортировать рейтинг по убыванию и запросить только 19 первых фильмов\n",
    "# PS: учитывая что в прошлом проекте сняли бал за программный поиск диапазона,\n",
    "# а расчситать 1% очень легко, в данном задании программного поиска 1% описывать не буду\n",
    "\n",
    "display(data[['original_title', 'vote_average']].sort_values(by='vote_average', \n",
    "                                                     ascending=False).head(19))"
   ]
  },
  {
   "cell_type": "markdown",
   "metadata": {
    "colab_type": "text",
    "id": "MdXsUXbCVqAV"
   },
   "source": [
    "# 27. Какие актеры чаще всего снимаются в одном фильме вместе?\n"
   ]
  },
  {
   "cell_type": "code",
   "execution_count": 245,
   "metadata": {},
   "outputs": [],
   "source": [
    "answers['27'] = 'Daniel Radcliffe', 'Rupert Grint' # +"
   ]
  },
  {
   "cell_type": "code",
   "execution_count": 246,
   "metadata": {},
   "outputs": [
    {
     "name": "stdout",
     "output_type": "stream",
     "text": [
      "('Daniel Radcliffe', 'Rupert Grint')\n"
     ]
    }
   ],
   "source": [
    "# импортируем функцию для создания пар актеров\n",
    "from itertools import combinations\n",
    "\n",
    "# создаем копию данных для решения задания\n",
    "# в колонке с актерами создаем список через ',' без '|'\n",
    "cast_data = data.copy()\n",
    "cast_data['cast'] = cast_data.cast.str.split('|')\n",
    "\n",
    "# создаем список для хранения пар актеров\n",
    "# для каждой строки (фильма) в колонке актеров создаем пары актеров \n",
    "# и сохраняем в список\n",
    "acters_pairs = []\n",
    "for line in cast_data['cast']:\n",
    "    acters_comb = list(combinations(line, 2))\n",
    "    acters_pairs.append(acters_comb)\n",
    "    \n",
    "# используя функцию из предобработки, \n",
    "# считаем количество повторений каждой пары \n",
    "# выводим пару актеров с максимальным количеством повторений\n",
    "print(count_elements(acters_pairs))"
   ]
  },
  {
   "cell_type": "markdown",
   "metadata": {
    "colab_type": "text",
    "id": "4ymnxEVoVqAW"
   },
   "source": [
    "ВАРИАНТ 2"
   ]
  },
  {
   "cell_type": "code",
   "execution_count": 247,
   "metadata": {},
   "outputs": [
    {
     "name": "stdout",
     "output_type": "stream",
     "text": [
      "Index([('Daniel Radcliffe', 'Emma Watson'), ('Daniel Radcliffe', 'Rupert Grint')], dtype='object')\n"
     ]
    }
   ],
   "source": [
    "# второй вариант решения отличается от первого только \n",
    "# в способе подсчета одинаковых пар актеров в разных фильмах\n",
    "# для решения используется созданный ранее список пар актеров\n",
    "\n",
    "# создаем Series из списков всех пар актеров\n",
    "# и создаем DataFrame из пар и их количества\n",
    "acters_together = pd.Series(acters_pairs).explode()\n",
    "acters_data = pd.DataFrame(acters_together.value_counts(), \n",
    "                           columns=['count_pair'])\n",
    "\n",
    "# сортируем данные от большего к меньшему \n",
    "# и выводим пары с максимальным значением\n",
    "acters_data = acters_data.sort_values(by='count_pair', ascending=False)\n",
    "print(acters_data[acters_data.count_pair==acters_data.count_pair.max()].index)"
   ]
  },
  {
   "cell_type": "markdown",
   "metadata": {
    "colab_type": "text",
    "id": "U0nONFnGVqAX"
   },
   "source": [
    "# Submission"
   ]
  },
  {
   "cell_type": "code",
   "execution_count": 248,
   "metadata": {
    "colab": {},
    "colab_type": "code",
    "id": "IfcaRO9-VqAX",
    "outputId": "0f132912-32bb-4196-c98c-abfbc4ad5a5f"
   },
   "outputs": [
    {
     "data": {
      "text/plain": [
       "{'1': 'Pirates of the Caribbean: On Stranger Tides (tt1298650)',\n",
       " '2': 'Gods and Generals (tt0279111)',\n",
       " '3': 'Winnie the Pooh (tt1449283)',\n",
       " '4': 110,\n",
       " '5': 107,\n",
       " '6': 'Avatar (tt0499549)',\n",
       " '7': 'The Lone Ranger (tt1210819)',\n",
       " '8': 1478,\n",
       " '9': 'The Dark Knight (tt0468569)',\n",
       " '10': 'The Lone Ranger (tt1210819)',\n",
       " '11': 'Drama',\n",
       " '12': 'Drama',\n",
       " '13': 'Peter Jackson',\n",
       " '14': 'Robert Rodriguez',\n",
       " '15': 'Chris Hemsworth',\n",
       " '16': 'Matt Damon',\n",
       " '17': 'Action',\n",
       " '18': 'K-19: The Widowmaker (tt0267626)',\n",
       " '19': 2015,\n",
       " '20': 2014,\n",
       " '21': 'September',\n",
       " '22': 450,\n",
       " '23': 'Peter Jackson',\n",
       " '24': 'Four By Two Productions',\n",
       " '25': 'Midnight Picture Show',\n",
       " '26': 'Inside Out, The Dark Knight, 12 Years a Slave',\n",
       " '27': ('Daniel Radcliffe', 'Rupert Grint')}"
      ]
     },
     "execution_count": 248,
     "metadata": {},
     "output_type": "execute_result"
    }
   ],
   "source": [
    "# в конце можно посмотреть свои ответы к каждому вопросу\n",
    "answers"
   ]
  },
  {
   "cell_type": "code",
   "execution_count": 249,
   "metadata": {
    "colab": {},
    "colab_type": "code",
    "id": "SiRmHPl8VqAd"
   },
   "outputs": [
    {
     "data": {
      "text/plain": [
       "27"
      ]
     },
     "execution_count": 249,
     "metadata": {},
     "output_type": "execute_result"
    }
   ],
   "source": [
    "# и убедиться что ни чего не пропустил)\n",
    "len(answers)"
   ]
  },
  {
   "cell_type": "code",
   "execution_count": 0,
   "metadata": {
    "colab": {},
    "colab_type": "code",
    "id": "uCfuTkRbVqAg"
   },
   "outputs": [],
   "source": []
  },
  {
   "cell_type": "code",
   "execution_count": 0,
   "metadata": {
    "colab": {},
    "colab_type": "code",
    "id": "Vwx3NrkSVqAl"
   },
   "outputs": [],
   "source": []
  }
 ],
 "metadata": {
  "colab": {
   "name": "Copy of [SF-DST] Movies IMBD v4.1 TEMPLATE.ipynb",
   "provenance": []
  },
  "kernelspec": {
   "display_name": "Python 3",
   "language": "python",
   "name": "python3"
  },
  "language_info": {
   "codemirror_mode": {
    "name": "ipython",
    "version": 3
   },
   "file_extension": ".py",
   "mimetype": "text/x-python",
   "name": "python",
   "nbconvert_exporter": "python",
   "pygments_lexer": "ipython3",
   "version": "3.8.3"
  }
 },
 "nbformat": 4,
 "nbformat_minor": 1
}
